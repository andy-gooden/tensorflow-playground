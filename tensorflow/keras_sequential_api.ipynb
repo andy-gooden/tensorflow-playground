{
 "cells": [
  {
   "cell_type": "code",
   "execution_count": 67,
   "metadata": {},
   "outputs": [
    {
     "name": "stdout",
     "output_type": "stream",
     "text": [
      "Tensorflow version: 2.2.0\n",
      "Keras version: 2.3.0-tf\n"
     ]
    }
   ],
   "source": [
    "import tensorflow as tf\n",
    "import tensorflow.keras as keras\n",
    "import numpy as np\n",
    "import pandas as pd\n",
    "import matplotlib.pyplot as plt\n",
    "\n",
    "print(\"Tensorflow version: {}\".format(tf.__version__))\n",
    "print(\"Keras version: {}\".format(keras.__version__))"
   ]
  },
  {
   "cell_type": "code",
   "execution_count": 68,
   "metadata": {},
   "outputs": [
    {
     "name": "stdout",
     "output_type": "stream",
     "text": [
      "Input Data Shape: (60000, 28, 28)\n",
      "Input Data Type: <class 'numpy.ndarray'>\n",
      "Input Data DType: uint8\n",
      "Input Data DType after Scaling: float64\n",
      "Unique Lables: [0 1 2 3 4 5 6 7 8 9]\n"
     ]
    }
   ],
   "source": [
    "input_data = keras.datasets.fashion_mnist\n",
    "(x_train_full, y_train_full), (x_test, y_test) = input_data.load_data()\n",
    "x_valid, x_train = x_train_full[:5000]/255.0, x_train_full[5000:]/255.0\n",
    "y_valid, y_train = y_train_full[:5000], y_train_full[5000:]\n",
    "class_names=['tshirt', 'trouser', 'pullover', 'dress', 'coat', 'sandal', 'shirt', 'sneaker', 'bag', 'boot']\n",
    "\n",
    "print(\"Input Data Shape: {}\".format(x_train_full.shape))\n",
    "print(\"Input Data Type: {}\".format(type(x_train_full)))\n",
    "print(\"Input Data DType: {}\".format(x_train_full.dtype))\n",
    "print(\"Input Data DType after Scaling: {}\".format(x_train.dtype))\n",
    "print(\"Unique Lables: {}\".format(np.unique(y_train_full)))"
   ]
  },
  {
   "cell_type": "code",
   "execution_count": 69,
   "metadata": {},
   "outputs": [],
   "source": [
    "model = keras.models.Sequential()\n",
    "# make input layer to flatten square images\n",
    "# could also doL model.add(keras.layers.InputLayer(input_shape=(28,28)))\n",
    "model.add(keras.layers.Flatten(input_shape=(28,28)))\n",
    "model.add(keras.layers.Dense(300, activation='relu')) #input dims inferred from previous layer\n",
    "# explicitly add activation instead of using keyword\n",
    "# equiv to: model.add(keras.layers.Dense(100, activation='relu')) or\n",
    "# model.add(keras.layers.Dense(300, activation=keras.activations.relu)) \n",
    "model.add(keras.layers.Dense(100))\n",
    "model.add(keras.layers.Activation(keras.activations.relu))  \n",
    "model.add(keras.layers.Dense(10, activation='softmax'))\n"
   ]
  },
  {
   "cell_type": "code",
   "execution_count": 70,
   "metadata": {},
   "outputs": [
    {
     "name": "stdout",
     "output_type": "stream",
     "text": [
      "Model: \"sequential_6\"\n",
      "_________________________________________________________________\n",
      "Layer (type)                 Output Shape              Param #   \n",
      "=================================================================\n",
      "Input (Flatten)              (None, 784)               0         \n",
      "_________________________________________________________________\n",
      "Layer1 (Dense)               (None, 128)               100480    \n",
      "_________________________________________________________________\n",
      "Dropout (Dropout)            (None, 128)               0         \n",
      "_________________________________________________________________\n",
      "Output (Dense)               (None, 10)                1290      \n",
      "=================================================================\n",
      "Total params: 101,770\n",
      "Trainable params: 101,770\n",
      "Non-trainable params: 0\n",
      "_________________________________________________________________\n"
     ]
    }
   ],
   "source": [
    "# can also instantiate w a list\n",
    "model = keras.models.Sequential([\n",
    "    keras.layers.Flatten(input_shape=(28,28), name=\"Input\"),\n",
    "    keras.layers.Dense(128, \n",
    "                       activation='relu', \n",
    "                       name=\"Layer1\", \n",
    "                       kernel_initializer=keras.initializers.GlorotUniform(seed=None)), \n",
    "    tf.keras.layers.Dropout(0.2,\n",
    "                           name=\"Dropout\"),\n",
    "    keras.layers.Dense(10, \n",
    "                       activation='softmax', \n",
    "                       name=\"Output\",\n",
    "                       kernel_initializer=keras.initializers.RandomNormal(stddev=0.1))\n",
    "])\n",
    "model.summary()"
   ]
  },
  {
   "cell_type": "code",
   "execution_count": 71,
   "metadata": {},
   "outputs": [
    {
     "name": "stdout",
     "output_type": "stream",
     "text": [
      "Variance of Layer1 weights: 0.0021910634823143482\n",
      "Variance of OutputLayer weights: 0.010182313621044159\n"
     ]
    }
   ],
   "source": [
    "layer1=model.get_layer(name='Layer1')\n",
    "weights,biases = layer1.get_weights()\n",
    "print(\"Variance of Layer1 weights: {}\".format(np.var(weights)))\n",
    "output = model.get_layer(name='Output')\n",
    "weights, biases = output.get_weights()\n",
    "print(\"Variance of OutputLayer weights: {}\".format(np.var(weights)))"
   ]
  },
  {
   "cell_type": "code",
   "execution_count": 72,
   "metadata": {},
   "outputs": [],
   "source": [
    "model.compile(\n",
    "    optimizer=keras.optimizers.SGD(\n",
    "        learning_rate=0.01, \n",
    "        momentum=0.0, \n",
    "        nesterov=False, \n",
    "        name='SGD', \n",
    "        #**kwargs\n",
    "    ),\n",
    "    loss=keras.losses.SparseCategoricalCrossentropy(\n",
    "        from_logits=False, \n",
    "        #reduction=losses_utils.ReductionV2.AUTO,\n",
    "        name='sparse_categorical_crossentropy'\n",
    "    ),\n",
    "    # sparse_categorical: because target is class index, not class array like [0,0,1,...,0]\n",
    "    metrics=[keras.metrics.sparse_categorical_accuracy],  \n",
    "    loss_weights=None,\n",
    "    sample_weight_mode=None,\n",
    "    weighted_metrics=None,\n",
    "    #**kwargs,\n",
    ")"
   ]
  },
  {
   "cell_type": "code",
   "execution_count": 73,
   "metadata": {},
   "outputs": [
    {
     "name": "stdout",
     "output_type": "stream",
     "text": [
      "Epoch 1/3\n",
      "1719/1719 [==============================] - 2s 1ms/step - loss: 0.8622 - sparse_categorical_accuracy: 0.7075 - val_loss: 0.5810 - val_sparse_categorical_accuracy: 0.8058\n",
      "Epoch 2/3\n",
      "1719/1719 [==============================] - 2s 1ms/step - loss: 0.5899 - sparse_categorical_accuracy: 0.7998 - val_loss: 0.5040 - val_sparse_categorical_accuracy: 0.8314\n",
      "Epoch 3/3\n",
      "1719/1719 [==============================] - 2s 1ms/step - loss: 0.5255 - sparse_categorical_accuracy: 0.8196 - val_loss: 0.4624 - val_sparse_categorical_accuracy: 0.8410\n"
     ]
    }
   ],
   "source": [
    "history = model.fit(\n",
    "    x=x_train,\n",
    "    y=y_train,\n",
    "    batch_size=None,\n",
    "    epochs=3,\n",
    "    verbose=1,\n",
    "    callbacks=None,\n",
    "    validation_split=0.0,\n",
    "    validation_data=(x_valid, y_valid),\n",
    "    shuffle=True,\n",
    "    class_weight=None,\n",
    "    sample_weight=None,\n",
    "    initial_epoch=0,\n",
    "    steps_per_epoch=None,\n",
    "    validation_steps=None,\n",
    "    validation_batch_size=None,\n",
    "    validation_freq=1,\n",
    "    max_queue_size=10,\n",
    "    workers=1,\n",
    "    use_multiprocessing=False,\n",
    ")"
   ]
  },
  {
   "cell_type": "code",
   "execution_count": 74,
   "metadata": {},
   "outputs": [
    {
     "data": {
      "image/png": "[encoded data removed]",
      "text/plain": [
       "<Figure size 576x360 with 1 Axes>"
      ]
     },
     "metadata": {
      "needs_background": "light"
     },
     "output_type": "display_data"
    }
   ],
   "source": [
    "pd.DataFrame(history.history).plot(figsize=(8,5))\n",
    "plt.grid(True)\n",
    "plt.gca().set_ylim(0,1)\n",
    "plt.show()"
   ]
  },
  {
   "cell_type": "code",
   "execution_count": 75,
   "metadata": {},
   "outputs": [
    {
     "name": "stdout",
     "output_type": "stream",
     "text": [
      "history Object is of Type: <class 'tensorflow.python.keras.callbacks.History'>\n",
      "history.history is of Type: <class 'dict'>\n",
      "keys: dict_keys(['loss', 'sparse_categorical_accuracy', 'val_loss', 'val_sparse_categorical_accuracy'])\n"
     ]
    }
   ],
   "source": [
    "print(\"history Object is of Type: {}\".format(type(history)))\n",
    "print(\"history.history is of Type: {}\".format(type(history.history)))\n",
    "print(\"keys: {}\".format(history.history.keys()))"
   ]
  },
  {
   "cell_type": "code",
   "execution_count": 76,
   "metadata": {},
   "outputs": [
    {
     "name": "stdout",
     "output_type": "stream",
     "text": [
      "Some member variables of history object:\n",
      "history.params: {'verbose': 1, 'epochs': 3, 'steps': 1719}\n",
      "Model: \"sequential_6\"\n",
      "_________________________________________________________________\n",
      "Layer (type)                 Output Shape              Param #   \n",
      "=================================================================\n",
      "Input (Flatten)              (None, 784)               0         \n",
      "_________________________________________________________________\n",
      "Layer1 (Dense)               (None, 128)               100480    \n",
      "_________________________________________________________________\n",
      "Dropout (Dropout)            (None, 128)               0         \n",
      "_________________________________________________________________\n",
      "Output (Dense)               (None, 10)                1290      \n",
      "=================================================================\n",
      "Total params: 101,770\n",
      "Trainable params: 101,770\n",
      "Non-trainable params: 0\n",
      "_________________________________________________________________\n",
      "history.epoch: [0, 1, 2]\n"
     ]
    }
   ],
   "source": [
    "print(\"Some member variables of history object:\")\n",
    "print(\"history.params: {}\".format(history.params))\n",
    "history.model.summary()\n",
    "print(\"history.epoch: {}\".format(history.epoch))"
   ]
  },
  {
   "cell_type": "code",
   "execution_count": 77,
   "metadata": {},
   "outputs": [
    {
     "name": "stdout",
     "output_type": "stream",
     "text": [
      "313/313 [==============================] - 0s 999us/step - loss: 73.4764 - sparse_categorical_accuracy: 0.7872\n",
      "evaluations type: <class 'list'>\n",
      "evaluations: [73.4764404296875, 0.7871999740600586]\n"
     ]
    }
   ],
   "source": [
    "evaluations = model.evaluate(\n",
    "    x=x_test,\n",
    "    y=y_test,\n",
    "    batch_size=None,\n",
    "    verbose=1,\n",
    "    sample_weight=None,\n",
    "    steps=None,\n",
    "    callbacks=None,\n",
    "    max_queue_size=10,\n",
    "    workers=1,\n",
    "    use_multiprocessing=False,\n",
    "    return_dict=False,\n",
    ")\n",
    "\n",
    "print(\"evaluations type: {}\".format(type(evaluations)))\n",
    "print(\"evaluations: {}\".format(evaluations))\n"
   ]
  },
  {
   "cell_type": "code",
   "execution_count": 78,
   "metadata": {},
   "outputs": [
    {
     "name": "stdout",
     "output_type": "stream",
     "text": [
      "[[0. 0. 0. 0. 0. 0. 0. 0. 0. 1.]\n",
      " [0. 0. 1. 0. 0. 0. 0. 0. 0. 0.]\n",
      " [0. 1. 0. 0. 0. 0. 0. 0. 0. 0.]]\n",
      "(3, 10)\n"
     ]
    }
   ],
   "source": [
    "predictions = model.predict(\n",
    "    x_test[:3],\n",
    "    batch_size=None,\n",
    "    verbose=0,\n",
    "    steps=None,\n",
    "    callbacks=None,\n",
    "    max_queue_size=10,\n",
    "    workers=1,\n",
    "    use_multiprocessing=False,\n",
    ")\n",
    "print(predictions)\n",
    "print(predictions.shape)"
   ]
  },
  {
   "cell_type": "code",
   "execution_count": 79,
   "metadata": {},
   "outputs": [
    {
     "name": "stdout",
     "output_type": "stream",
     "text": [
      "[0 2 1 0 0 0 0 0 0 0]\n",
      "[9 2 1]\n",
      "[9 2 1]\n",
      "['boot' 'pullover' 'trouser']\n"
     ]
    }
   ],
   "source": [
    "print(np.argmax(predictions, axis=0))\n",
    "print(np.argmax(predictions, axis=1))\n",
    "print(np.argmax(predictions, axis=-1))\n",
    "print(np.array(class_names)[np.argmax(predictions, axis=-1)])"
   ]
  },
  {
   "cell_type": "code",
   "execution_count": 84,
   "metadata": {},
   "outputs": [
    {
     "name": "stdout",
     "output_type": "stream",
     "text": [
      "tf.Tensor(\n",
      "[[0. 0. 0. 0. 0. 0. 0. 0. 0. 1.]\n",
      " [0. 0. 1. 0. 0. 0. 0. 0. 0. 0.]\n",
      " [0. 1. 0. 0. 0. 0. 0. 0. 0. 0.]], shape=(3, 10), dtype=float32)\n",
      "Predictions as an array: \n",
      "[[0. 0. 0. 0. 0. 0. 0. 0. 0. 1.]\n",
      " [0. 0. 1. 0. 0. 0. 0. 0. 0. 0.]\n",
      " [0. 1. 0. 0. 0. 0. 0. 0. 0. 0.]]\n"
     ]
    }
   ],
   "source": [
    "# Another way to call the predict function is to use model.__call__ function\n",
    "predictions = model(x_test[:3])\n",
    "print(predictions)            # a tensor\n",
    "print(\"Predictions as an array:\\n{}\".format(predictions.numpy()))    # a numpy array"
   ]
  },
  {
   "cell_type": "markdown",
   "metadata": {},
   "source": [
    "<b>MODEL 2</b><br>\n",
    "Using the Softmax activation in the last layer is discouraged as it's impossible to provide an exact and numerically stable loss calculation for all models when using a softmax output\n",
    "\n",
    "Here, we'll create a second model with no activation in the final layer, train it for stable loss calcs, then wrap the final model in another model w a softmax output layer\n",
    "\n",
    "For each example the model returns a vector of \"[logits](https://developers.google.com/machine-learning/glossary#logits)\" or \"[log-odds](https://developers.google.com/machine-learning/glossary#log-odds)\" scores, one for each class."
   ]
  },
  {
   "cell_type": "code",
   "execution_count": 98,
   "metadata": {},
   "outputs": [
    {
     "name": "stdout",
     "output_type": "stream",
     "text": [
      "Model: \"sequential_6\"\n",
      "_________________________________________________________________\n",
      "Layer (type)                 Output Shape              Param #   \n",
      "=================================================================\n",
      "Input (Flatten)              (None, 784)               0         \n",
      "_________________________________________________________________\n",
      "Layer1 (Dense)               (None, 128)               100480    \n",
      "_________________________________________________________________\n",
      "Dropout (Dropout)            (None, 128)               0         \n",
      "_________________________________________________________________\n",
      "Output (Dense)               (None, 10)                1290      \n",
      "=================================================================\n",
      "Total params: 101,770\n",
      "Trainable params: 101,770\n",
      "Non-trainable params: 0\n",
      "_________________________________________________________________\n"
     ]
    }
   ],
   "source": [
    "model2 = keras.models.Sequential([\n",
    "    keras.layers.Flatten(input_shape=(28,28), name=\"Input\"),\n",
    "    keras.layers.Dense(128,  activation='relu', name=\"Layer1\", kernel_initializer=keras.initializers.GlorotUniform(seed=None)), \n",
    "    tf.keras.layers.Dropout(0.2,name=\"Dropout\"),\n",
    "    keras.layers.Dense(10, name=\"Output\", kernel_initializer=keras.initializers.RandomNormal(stddev=0.1))\n",
    "])\n",
    "model.summary()\n",
    "\n",
    "# This loss is equal to the negative log probability of the true class:\n",
    "# zero if the model is sure of the correct class.\n",
    "loss_fn = tf.keras.losses.SparseCategoricalCrossentropy(from_logits=True)\n",
    "\n",
    "model2.compile(\n",
    "    optimizer=keras.optimizers.SGD(learning_rate=0.01),\n",
    "    loss=loss_fn,\n",
    "    metrics=['accuracy']\n",
    ")"
   ]
  },
  {
   "cell_type": "code",
   "execution_count": 97,
   "metadata": {},
   "outputs": [
    {
     "name": "stdout",
     "output_type": "stream",
     "text": [
      "Prediction: [[-0.23700957  0.91025496  1.2372909  -0.27956843 -0.9510958  -0.59267235\n",
      "   0.09381628 -0.19576754  0.7593332  -0.6820349 ]]\n",
      "Softmax Probs: [[0.0607917  0.19146746 0.26553687 0.05825876 0.02976601 0.04259728\n",
      "  0.08462919 0.0633513  0.16464573 0.03895581]]\n",
      "Loss: 17.134559631347656:\n"
     ]
    },
    {
     "data": {
      "text/plain": [
       "2.3025851"
      ]
     },
     "execution_count": 97,
     "metadata": {},
     "output_type": "execute_result"
    }
   ],
   "source": [
    "# we can now use UNTRAINED model to get a prediction on \n",
    "predictions = model2(x_train[:1]).numpy()\n",
    "probabilities = tf.nn.softmax(predictions).numpy()\n",
    "loss = loss_fn(y_train[:1], predictions).numpy()\n",
    "print(\"Prediction: {}\".format(predictions))\n",
    "print(\"Softmax Probs: {}\".format(probabilities))\n",
    "print(\"Loss: {}:\".format(loss))\n",
    "\n",
    "# This untrained model should give probs close to random (1/10 for each class), \n",
    "# so the initial loss should be close to -tf.log(1/10)\n",
    "-tf.math.log(1/10).numpy()"
   ]
  },
  {
   "cell_type": "code",
   "execution_count": 99,
   "metadata": {},
   "outputs": [
    {
     "name": "stdout",
     "output_type": "stream",
     "text": [
      "Epoch 1/5\n",
      "1719/1719 [==============================] - 2s 1ms/step - loss: 0.8498 - accuracy: 0.7168\n",
      "Epoch 2/5\n",
      "1719/1719 [==============================] - 2s 1ms/step - loss: 0.5818 - accuracy: 0.8016\n",
      "Epoch 3/5\n",
      "1719/1719 [==============================] - 2s 1ms/step - loss: 0.5224 - accuracy: 0.8208\n",
      "Epoch 4/5\n",
      "1719/1719 [==============================] - 2s 1ms/step - loss: 0.4864 - accuracy: 0.8308\n",
      "Epoch 5/5\n",
      "1719/1719 [==============================] - 2s 1ms/step - loss: 0.4638 - accuracy: 0.8371\n",
      "313/313 - 0s - loss: 67.1781 - accuracy: 0.8122\n"
     ]
    },
    {
     "data": {
      "text/plain": [
       "[67.1781234741211, 0.8122000098228455]"
      ]
     },
     "execution_count": 99,
     "metadata": {},
     "output_type": "execute_result"
    }
   ],
   "source": [
    "model2.fit(x_train, y_train, epochs=5)\n",
    "model2.evaluate(x_test,  y_test, verbose=2)"
   ]
  },
  {
   "cell_type": "code",
   "execution_count": 105,
   "metadata": {},
   "outputs": [
    {
     "name": "stdout",
     "output_type": "stream",
     "text": [
      "Class Probs: [[0.0000000e+00 0.0000000e+00 0.0000000e+00 0.0000000e+00 0.0000000e+00\n",
      "  0.0000000e+00 0.0000000e+00 0.0000000e+00 0.0000000e+00 1.0000000e+00]\n",
      " [0.0000000e+00 0.0000000e+00 1.0000000e+00 0.0000000e+00 0.0000000e+00\n",
      "  0.0000000e+00 0.0000000e+00 0.0000000e+00 0.0000000e+00 0.0000000e+00]\n",
      " [0.0000000e+00 1.0000000e+00 0.0000000e+00 0.0000000e+00 0.0000000e+00\n",
      "  0.0000000e+00 0.0000000e+00 0.0000000e+00 0.0000000e+00 0.0000000e+00]\n",
      " [0.0000000e+00 1.0000000e+00 0.0000000e+00 0.0000000e+00 0.0000000e+00\n",
      "  0.0000000e+00 0.0000000e+00 0.0000000e+00 0.0000000e+00 0.0000000e+00]\n",
      " [0.0000000e+00 0.0000000e+00 1.2979244e-35 0.0000000e+00 0.0000000e+00\n",
      "  0.0000000e+00 1.0000000e+00 0.0000000e+00 0.0000000e+00 0.0000000e+00]]\n"
     ]
    }
   ],
   "source": [
    "probability_model = tf.keras.Sequential([\n",
    "  model2,\n",
    "  tf.keras.layers.Softmax()\n",
    "])\n",
    "\n",
    "probs = probability_model(x_test[:5])\n",
    "print(\"Class Probs: {}\".format(probs))"
   ]
  },
  {
   "cell_type": "code",
   "execution_count": 104,
   "metadata": {},
   "outputs": [
    {
     "data": {
      "text/plain": [
       "array(['boot', 'pullover', 'trouser', 'trouser', 'shirt'], dtype='<U8')"
      ]
     },
     "execution_count": 104,
     "metadata": {},
     "output_type": "execute_result"
    }
   ],
   "source": [
    "idx = np.argmax(probs, axis=-1)\n",
    "np.array(class_names)[idx]"
   ]
  },
  {
   "cell_type": "code",
   "execution_count": 106,
   "metadata": {},
   "outputs": [
    {
     "name": "stdout",
     "output_type": "stream",
     "text": [
      "Epoch 1/5\n",
      "1719/1719 [==============================] - 2s 1ms/step - loss: 0.8321 - accuracy: 0.7230 - val_loss: 0.5837 - val_accuracy: 0.7994\n",
      "Epoch 2/5\n",
      "1719/1719 [==============================] - 2s 1ms/step - loss: 0.5710 - accuracy: 0.8061 - val_loss: 0.4898 - val_accuracy: 0.8334\n",
      "Epoch 3/5\n",
      "1719/1719 [==============================] - 2s 1ms/step - loss: 0.5112 - accuracy: 0.8242 - val_loss: 0.4574 - val_accuracy: 0.8474\n",
      "Epoch 4/5\n",
      "1719/1719 [==============================] - 2s 1ms/step - loss: 0.4785 - accuracy: 0.8348 - val_loss: 0.4310 - val_accuracy: 0.8530\n",
      "Epoch 5/5\n",
      "1719/1719 [==============================] - 2s 1ms/step - loss: 0.4546 - accuracy: 0.8417 - val_loss: 0.4155 - val_accuracy: 0.8572\n",
      "Class Probs: [[0. 0. 0. 0. 0. 0. 0. 0. 0. 1.]\n",
      " [0. 0. 1. 0. 0. 0. 0. 0. 0. 0.]\n",
      " [0. 1. 0. 0. 0. 0. 0. 0. 0. 0.]\n",
      " [0. 1. 0. 0. 0. 0. 0. 0. 0. 0.]\n",
      " [0. 0. 0. 0. 0. 0. 1. 0. 0. 0.]]\n"
     ]
    }
   ],
   "source": [
    "model3 = tf.keras.models.Sequential([\n",
    "  tf.keras.layers.Flatten(input_shape=(28, 28)),\n",
    "  tf.keras.layers.Dense(128, activation='relu'),\n",
    "  tf.keras.layers.Dropout(0.2),\n",
    "  tf.keras.layers.Dense(10)\n",
    "])\n",
    "\n",
    "model3.compile(\n",
    "    optimizer=keras.optimizers.SGD(learning_rate=0.01),\n",
    "    loss=tf.keras.losses.SparseCategoricalCrossentropy(from_logits=True),\n",
    "    metrics=['accuracy']\n",
    ")\n",
    "\n",
    "model3.fit(x_train, y_train, epochs=5, validation_data=(x_valid, y_valid))\n",
    "\n",
    "probability_model = tf.keras.Sequential([\n",
    "  model3,\n",
    "  tf.keras.layers.Softmax()\n",
    "])\n",
    "\n",
    "probs = probability_model(x_test[:5])\n",
    "print(\"Class Probs: {}\".format(probs))"
   ]
  },
  {
   "cell_type": "code",
   "execution_count": null,
   "metadata": {},
   "outputs": [],
   "source": []
  }
 ],
 "metadata": {
  "kernelspec": {
   "display_name": "Python 3",
   "language": "python",
   "name": "python3"
  },
  "language_info": {
   "codemirror_mode": {
    "name": "ipython",
    "version": 3
   },
   "file_extension": ".py",
   "mimetype": "text/x-python",
   "name": "python",
   "nbconvert_exporter": "python",
   "pygments_lexer": "ipython3",
   "version": "3.7.4"
  }
 },
 "nbformat": 4,
 "nbformat_minor": 4
}
