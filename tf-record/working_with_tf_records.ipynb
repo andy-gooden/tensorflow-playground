{
 "cells": [
  {
   "cell_type": "markdown",
   "metadata": {},
   "source": [
    "# TF Record"
   ]
  },
  {
   "cell_type": "code",
   "execution_count": null,
   "metadata": {},
   "outputs": [],
   "source": [
    "feature_spec = dict(\n",
    "    [(f, tf.io.FixedLenFeature([], tf.string)) for f in _REVENUE_FEATURES] +\n",
    "    [(f, tf.io.FixedLenFeature([], tf.string)) for f in _CATEGORICAL_FEATURES]\n",
    ")\n",
    "\n",
    "metadata = dataset_metadata.DatasetMetadata(\n",
    "    schema_utils.schema_from_feature_spec(feature_spec)\n",
    ")\n",
    "\n",
    "tensorflow_transform.tf_metadata.\n",
    "    \n",
    "    converter = tft.coders.ExampleProtoCoder(metadata.schema)\n",
    "    return (\n",
    "        pcoll\n",
    "        | 'EncoderTrainData' >> beam.Map(converter.encode)\n",
    "        | 'WriteExamples' >> beam.io.WriteToTFRecord(\n",
    "            os.path.join(output_dir, path),\n",
    "            file_name_suffix='.tfrecord.gz'))"
   ]
  }
 ],
 "metadata": {
  "kernelspec": {
   "display_name": "Python 3",
   "language": "python",
   "name": "python3"
  },
  "language_info": {
   "codemirror_mode": {
    "name": "ipython",
    "version": 3
   },
   "file_extension": ".py",
   "mimetype": "text/x-python",
   "name": "python",
   "nbconvert_exporter": "python",
   "pygments_lexer": "ipython3",
   "version": "3.7.4"
  }
 },
 "nbformat": 4,
 "nbformat_minor": 2
}
